{
 "cells": [
  {
   "cell_type": "markdown",
   "id": "c13038d8-d626-4e27-8cb4-a0d1afcc2617",
   "metadata": {},
   "source": [
    "<hr style=\"border-width:2px;border-color:#75DFC1\">\n",
    "<center><h1>DLMI Kaggle challenge</h1></center>\n",
    "<center>Maxime RIGHINI, Nicolas GREVET</center>\n",
    "<center><h2>Part 6 - Final submissions</h2></center>\n",
    "<hr style=\"border-width:2px;border-color:#75DFC1\">"
   ]
  },
  {
   "cell_type": "code",
   "execution_count": 1,
   "id": "64d64782-320c-4d6a-b953-b6e063068a72",
   "metadata": {},
   "outputs": [],
   "source": [
    "import numpy as np\n",
    "import pandas as pd"
   ]
  },
  {
   "cell_type": "code",
   "execution_count": 2,
   "id": "1a3c03d2-76d5-46df-95ca-fa00d2556411",
   "metadata": {},
   "outputs": [],
   "source": [
    "pred_classificatoin = pd.read_csv(\"prediction_classification.csv\")\n",
    "pred_regression = pd.read_csv(\"prediction_regression.csv\")\n",
    "predictions = pred_classificatoin.merge(pred_regression, on=\"image_id\")"
   ]
  },
  {
   "cell_type": "markdown",
   "id": "d27fdf9e-229b-408b-ab98-23fd2db23f50",
   "metadata": {},
   "source": [
    "We noticed during the label cleaning step that the models tend to underestimate the ISUP grade. Thus, we customized our rounding as follows: if the prediction is above $x.35$, we round up. Otherwise we round down. This rounding allowed us to slightly improve our results."
   ]
  },
  {
   "cell_type": "code",
   "execution_count": 3,
   "id": "bac398bc-4496-4eed-9d26-b452da7021e5",
   "metadata": {},
   "outputs": [],
   "source": [
    "def round_up(x):\n",
    "    if x % 1 >= 0.35:\n",
    "        return np.ceil(x)\n",
    "    else:\n",
    "        return np.round(x)"
   ]
  },
  {
   "cell_type": "markdown",
   "id": "a817124d-711e-46f9-9513-2e7fe3b49d4a",
   "metadata": {},
   "source": [
    "### Mean of all predictions"
   ]
  },
  {
   "cell_type": "code",
   "execution_count": 4,
   "id": "9ee8039f-4344-4b7e-b0ac-a08d381100fc",
   "metadata": {},
   "outputs": [],
   "source": [
    "pred_all = pd.DataFrame({\"Id\": predictions[\"image_id\"], \n",
    "                         \"Predicted\": predictions[predictions.columns[1:]].mean(axis=1).apply(round_up).astype(int)})"
   ]
  },
  {
   "cell_type": "code",
   "execution_count": 5,
   "id": "a85124e8-61da-4a66-a41f-58d711d7503b",
   "metadata": {},
   "outputs": [],
   "source": [
    "pred_all.to_csv(\"pred_all.csv\", index=False)"
   ]
  },
  {
   "cell_type": "markdown",
   "id": "b434fd07-738b-4394-a851-8eee4607c001",
   "metadata": {},
   "source": [
    "### Mean of predictions on full dataset"
   ]
  },
  {
   "cell_type": "code",
   "execution_count": 6,
   "id": "8924d8ef-9f81-4f42-be2a-000dcee68d46",
   "metadata": {},
   "outputs": [],
   "source": [
    "pred_full = pd.DataFrame({\"Id\": predictions[\"image_id\"], \n",
    "                          \"Predicted\": predictions[predictions.columns[[1, 2, 3, 4, 5, 11, 12, 13, 14, 15]]].mean(axis=1)\\\n",
    "                                                                                          .apply(round_up).astype(int)})"
   ]
  },
  {
   "cell_type": "code",
   "execution_count": 7,
   "id": "51b0f0e7-f2b4-44ba-b7c1-343596948ce7",
   "metadata": {},
   "outputs": [],
   "source": [
    "pred_full.to_csv(\"pred_full.csv\", index=False)"
   ]
  },
  {
   "cell_type": "markdown",
   "id": "576f850b-718e-4385-b31f-c176fa1259a0",
   "metadata": {},
   "source": [
    "### Mean of predictions on clean dataset"
   ]
  },
  {
   "cell_type": "code",
   "execution_count": 8,
   "id": "088ef8ab-a297-48dc-93c7-3faa4b7c2ba2",
   "metadata": {},
   "outputs": [],
   "source": [
    "pred_clean = pd.DataFrame({\"Id\": predictions[\"image_id\"], \n",
    "                           \"Predicted\": predictions[predictions.columns[[6, 7, 8, 9, 10, 16, 17, 18, 19, 20]]].mean(axis=1)\\\n",
    "                                                                                          .apply(round_up).astype(int)})"
   ]
  },
  {
   "cell_type": "code",
   "execution_count": 9,
   "id": "80fbd76b-8f83-4d96-af44-eaf17835ec99",
   "metadata": {},
   "outputs": [],
   "source": [
    "pred_clean.to_csv(\"pred_clean.csv\", index=False)"
   ]
  },
  {
   "cell_type": "markdown",
   "id": "d79c35a0-4043-4452-9ee4-02149b4895f3",
   "metadata": {},
   "source": [
    "### Best combination found"
   ]
  },
  {
   "cell_type": "code",
   "execution_count": 10,
   "id": "39e2314b-54d0-4ec8-a35e-1987a2f2ba13",
   "metadata": {},
   "outputs": [],
   "source": [
    "pred_best = pd.DataFrame({\"Id\": predictions[\"image_id\"], \n",
    "                          \"Predicted\": predictions[predictions.columns[[1, 2]]].mean(axis=1).apply(round_up).astype(int)})"
   ]
  },
  {
   "cell_type": "code",
   "execution_count": 11,
   "id": "9805bbdd-f852-43ad-bf55-683c35390cd9",
   "metadata": {},
   "outputs": [],
   "source": [
    "pred_best.to_csv(\"pred_best.csv\", index=False)"
   ]
  }
 ],
 "metadata": {
  "kernelspec": {
   "display_name": "Python 3 (ipykernel)",
   "language": "python",
   "name": "python3"
  },
  "language_info": {
   "codemirror_mode": {
    "name": "ipython",
    "version": 3
   },
   "file_extension": ".py",
   "mimetype": "text/x-python",
   "name": "python",
   "nbconvert_exporter": "python",
   "pygments_lexer": "ipython3",
   "version": "3.9.7"
  }
 },
 "nbformat": 4,
 "nbformat_minor": 5
}
